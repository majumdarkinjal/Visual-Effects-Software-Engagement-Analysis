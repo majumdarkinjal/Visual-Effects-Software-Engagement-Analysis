{
 "cells": [
  {
   "cell_type": "markdown",
   "metadata": {},
   "source": [
    "# Phase 1 - Setup & Data Manipulation for Easier Processing"
   ]
  },
  {
   "cell_type": "code",
   "execution_count": 108,
   "metadata": {
    "scrolled": true
   },
   "outputs": [
    {
     "name": "stdout",
     "output_type": "stream",
     "text": [
      "Requirement already satisfied: pandas in c:\\users\\majum\\appdata\\roaming\\python\\python37\\site-packages (1.0.3)\n",
      "Requirement already satisfied: python-dateutil>=2.6.1 in c:\\users\\majum\\anaconda3\\lib\\site-packages (from pandas) (2.7.5)\n",
      "Requirement already satisfied: numpy>=1.13.3 in c:\\users\\majum\\anaconda3\\lib\\site-packages (from pandas) (1.15.4)\n",
      "Requirement already satisfied: pytz>=2017.2 in c:\\users\\majum\\anaconda3\\lib\\site-packages (from pandas) (2018.7)\n",
      "Requirement already satisfied: six>=1.5 in c:\\users\\majum\\anaconda3\\lib\\site-packages (from python-dateutil>=2.6.1->pandas) (1.12.0)\n"
     ]
    }
   ],
   "source": [
    "!pip3 install pandas\n",
    "!pip3 install --upgrade pandas\n",
    "!pip3 install -U seaborn\n",
    "!pip3 install -U matplotlib"
   ]
  },
  {
   "cell_type": "code",
   "execution_count": 1,
   "metadata": {
    "scrolled": true
   },
   "outputs": [
    {
     "name": "stderr",
     "output_type": "stream",
     "text": [
      "C:\\Users\\majum\\Anaconda3\\lib\\site-packages\\pandas\\compat\\_optional.py:138: UserWarning: Pandas requires version '2.7.0' or newer of 'numexpr' (version '2.6.8' currently installed).\n",
      "  warnings.warn(msg, UserWarning)\n"
     ]
    }
   ],
   "source": [
    "import pandas as pd\n",
    "import json\n",
    "import numpy as np\n",
    "import seaborn as sns\n",
    "import matplotlib.pyplot as plt\n",
    "# As of Pandas 1.01, json_normalize as pandas.io.json.json_normalize is deprecated and is now exposed in the top-level namespace.\n",
    "from pathlib import Path\n",
    "from datetime import datetime\n",
    "from pandas import json_normalize"
   ]
  },
  {
   "cell_type": "code",
   "execution_count": 2,
   "metadata": {
    "scrolled": true
   },
   "outputs": [],
   "source": [
    "df = pd.read_json (r'C:/Users/majum/Desktop/data_zipped.json', lines=True)\n",
    "# df.to_csv('C:/Users/majum/Downloads/data_zipped.csv', encoding='utf-8', index=False)\n",
    "# df = pd.read_csv('C:/Users/majum/Downloads/data_zipped.csv')"
   ]
  },
  {
   "cell_type": "code",
   "execution_count": 3,
   "metadata": {
    "scrolled": true
   },
   "outputs": [
    {
     "data": {
      "text/html": [
       "<div>\n",
       "<style scoped>\n",
       "    .dataframe tbody tr th:only-of-type {\n",
       "        vertical-align: middle;\n",
       "    }\n",
       "\n",
       "    .dataframe tbody tr th {\n",
       "        vertical-align: top;\n",
       "    }\n",
       "\n",
       "    .dataframe thead th {\n",
       "        text-align: right;\n",
       "    }\n",
       "</style>\n",
       "<table border=\"1\" class=\"dataframe\">\n",
       "  <thead>\n",
       "    <tr style=\"text-align: right;\">\n",
       "      <th></th>\n",
       "      <th>submit_date</th>\n",
       "      <th>ID</th>\n",
       "      <th>platform</th>\n",
       "      <th>sessionid</th>\n",
       "      <th>blocking</th>\n",
       "      <th>duration</th>\n",
       "      <th>parameters</th>\n",
       "      <th>start</th>\n",
       "      <th>subtype</th>\n",
       "      <th>ts</th>\n",
       "      <th>license</th>\n",
       "    </tr>\n",
       "  </thead>\n",
       "  <tbody>\n",
       "    <tr>\n",
       "      <th>0</th>\n",
       "      <td>2021-10-28</td>\n",
       "      <td>v4/lL/HKf7A4Sqlx13944zkrx+oapLs+npaw9OUTTd4=</td>\n",
       "      <td>WindowsEditor</td>\n",
       "      <td>5314110829103121408</td>\n",
       "      <td>True</td>\n",
       "      <td>122556.0</td>\n",
       "      <td>{\"sourceView\":\"UnityEditor.Toolbar\"}</td>\n",
       "      <td>2021-10-28T18:43:26.8774433Z</td>\n",
       "      <td>exitPlayMode</td>\n",
       "      <td>2021-10-28 18:43:27.169 UTC</td>\n",
       "      <td>NaN</td>\n",
       "    </tr>\n",
       "    <tr>\n",
       "      <th>1</th>\n",
       "      <td>2021-10-28</td>\n",
       "      <td>yneAbGInS6RdkU+np9wOhJxEq4Xx8ThHdiA4c0sH1Dw=</td>\n",
       "      <td>WindowsEditor</td>\n",
       "      <td>6233676446368430080</td>\n",
       "      <td>True</td>\n",
       "      <td>489308.0</td>\n",
       "      <td>{\"sourceView\":\"UnityEditor.Toolbar\"}</td>\n",
       "      <td>2021-10-28T19:38:29.5106919Z</td>\n",
       "      <td>exitPlayMode</td>\n",
       "      <td>2021-10-28 19:38:30.189 UTC</td>\n",
       "      <td>NaN</td>\n",
       "    </tr>\n",
       "    <tr>\n",
       "      <th>2</th>\n",
       "      <td>2021-10-28</td>\n",
       "      <td>M5EjWdG90VtOp7sszGIINlbCM62WeqsU8vCNzfDZUs0=</td>\n",
       "      <td>WindowsEditor</td>\n",
       "      <td>2681689864129693184</td>\n",
       "      <td>True</td>\n",
       "      <td>384588.0</td>\n",
       "      <td>{\"sourceView\":\"UnityEditor.Toolbar\"}</td>\n",
       "      <td>2021-10-28T19:04:48.6154116Z</td>\n",
       "      <td>exitPlayMode</td>\n",
       "      <td>2021-10-28 19:04:49.077 UTC</td>\n",
       "      <td>NaN</td>\n",
       "    </tr>\n",
       "    <tr>\n",
       "      <th>3</th>\n",
       "      <td>2021-10-28</td>\n",
       "      <td>8r87+Merm5DwsC8QaREoAGMpw4nThXoYZBgxROtfTtY=</td>\n",
       "      <td>WindowsEditor</td>\n",
       "      <td>1290270805231924736</td>\n",
       "      <td>True</td>\n",
       "      <td>155529.0</td>\n",
       "      <td>{\"sourceView\":\"UnityEditor.Toolbar\"}</td>\n",
       "      <td>2021-10-28T21:45:33.8444707Z</td>\n",
       "      <td>exitPlayMode</td>\n",
       "      <td>2021-10-28 21:45:34.009 UTC</td>\n",
       "      <td>NaN</td>\n",
       "    </tr>\n",
       "    <tr>\n",
       "      <th>4</th>\n",
       "      <td>2021-10-28</td>\n",
       "      <td>8r87+Merm5DwsC8QaREoAGMpw4nThXoYZBgxROtfTtY=</td>\n",
       "      <td>WindowsEditor</td>\n",
       "      <td>1290270805231924736</td>\n",
       "      <td>True</td>\n",
       "      <td>113993.0</td>\n",
       "      <td>{\"sourceView\":\"UnityEditor.Toolbar\"}</td>\n",
       "      <td>2021-10-28T21:07:52.8860063Z</td>\n",
       "      <td>exitPlayMode</td>\n",
       "      <td>2021-10-28 21:07:53.694 UTC</td>\n",
       "      <td>NaN</td>\n",
       "    </tr>\n",
       "  </tbody>\n",
       "</table>\n",
       "</div>"
      ],
      "text/plain": [
       "  submit_date                                            ID       platform  \\\n",
       "0  2021-10-28  v4/lL/HKf7A4Sqlx13944zkrx+oapLs+npaw9OUTTd4=  WindowsEditor   \n",
       "1  2021-10-28  yneAbGInS6RdkU+np9wOhJxEq4Xx8ThHdiA4c0sH1Dw=  WindowsEditor   \n",
       "2  2021-10-28  M5EjWdG90VtOp7sszGIINlbCM62WeqsU8vCNzfDZUs0=  WindowsEditor   \n",
       "3  2021-10-28  8r87+Merm5DwsC8QaREoAGMpw4nThXoYZBgxROtfTtY=  WindowsEditor   \n",
       "4  2021-10-28  8r87+Merm5DwsC8QaREoAGMpw4nThXoYZBgxROtfTtY=  WindowsEditor   \n",
       "\n",
       "             sessionid  blocking  duration  \\\n",
       "0  5314110829103121408      True  122556.0   \n",
       "1  6233676446368430080      True  489308.0   \n",
       "2  2681689864129693184      True  384588.0   \n",
       "3  1290270805231924736      True  155529.0   \n",
       "4  1290270805231924736      True  113993.0   \n",
       "\n",
       "                             parameters                         start  \\\n",
       "0  {\"sourceView\":\"UnityEditor.Toolbar\"}  2021-10-28T18:43:26.8774433Z   \n",
       "1  {\"sourceView\":\"UnityEditor.Toolbar\"}  2021-10-28T19:38:29.5106919Z   \n",
       "2  {\"sourceView\":\"UnityEditor.Toolbar\"}  2021-10-28T19:04:48.6154116Z   \n",
       "3  {\"sourceView\":\"UnityEditor.Toolbar\"}  2021-10-28T21:45:33.8444707Z   \n",
       "4  {\"sourceView\":\"UnityEditor.Toolbar\"}  2021-10-28T21:07:52.8860063Z   \n",
       "\n",
       "        subtype                           ts license  \n",
       "0  exitPlayMode  2021-10-28 18:43:27.169 UTC     NaN  \n",
       "1  exitPlayMode  2021-10-28 19:38:30.189 UTC     NaN  \n",
       "2  exitPlayMode  2021-10-28 19:04:49.077 UTC     NaN  \n",
       "3  exitPlayMode  2021-10-28 21:45:34.009 UTC     NaN  \n",
       "4  exitPlayMode  2021-10-28 21:07:53.694 UTC     NaN  "
      ]
     },
     "execution_count": 3,
     "metadata": {},
     "output_type": "execute_result"
    }
   ],
   "source": [
    "df.head()"
   ]
  },
  {
   "cell_type": "code",
   "execution_count": 4,
   "metadata": {
    "scrolled": true
   },
   "outputs": [
    {
     "data": {
      "text/plain": [
       "['submit_date',\n",
       " 'ID',\n",
       " 'platform',\n",
       " 'sessionid',\n",
       " 'blocking',\n",
       " 'duration',\n",
       " 'parameters',\n",
       " 'start',\n",
       " 'subtype',\n",
       " 'ts',\n",
       " 'license']"
      ]
     },
     "execution_count": 4,
     "metadata": {},
     "output_type": "execute_result"
    }
   ],
   "source": [
    "list(df.columns)"
   ]
  },
  {
   "cell_type": "code",
   "execution_count": 5,
   "metadata": {
    "scrolled": false
   },
   "outputs": [
    {
     "name": "stdout",
     "output_type": "stream",
     "text": [
      "Missing values per column:\n",
      "submit_date        0\n",
      "ID             22163\n",
      "platform           0\n",
      "sessionid          0\n",
      "blocking           0\n",
      "duration         143\n",
      "parameters         0\n",
      "start              0\n",
      "subtype            0\n",
      "ts               171\n",
      "license        32978\n",
      "dtype: int64\n",
      "\n",
      "Missing values per row:\n",
      "0    1\n",
      "1    1\n",
      "2    1\n",
      "3    1\n",
      "4    1\n",
      "dtype: int64\n"
     ]
    }
   ],
   "source": [
    "#Create a new function to list out counts of missing values:\n",
    "def num_missing(x):\n",
    "  return sum(x.isnull())\n",
    "\n",
    "#Applying per column:\n",
    "print (\"Missing values per column:\")\n",
    "print (df.apply(num_missing, axis=0)) #axis=0 defines that function is to be applied on each column\n",
    "\n",
    "#Applying per row:\n",
    "print (\"\\nMissing values per row:\")\n",
    "print (df.apply(num_missing, axis=1).head()) #axis=1 defines that function is to be applied on each row"
   ]
  },
  {
   "cell_type": "code",
   "execution_count": 6,
   "metadata": {
    "scrolled": true
   },
   "outputs": [],
   "source": [
    "#Data Manipulation\n",
    "# Unnest the JSON field parameters for easier analysis\n",
    "df = df.reset_index()\n",
    "df = df.join(json_normalize(df['parameters'].map(json.loads).tolist()).add_prefix('parameters.'))\\\n",
    "    .drop(['parameters'], axis=1)\n",
    "\n",
    "# Impute duration nulls\n",
    "# df['duration'] = df['duration'].fillna(0).astype(np.int64)"
   ]
  },
  {
   "cell_type": "code",
   "execution_count": 7,
   "metadata": {
    "scrolled": false
   },
   "outputs": [],
   "source": [
    "#Data Manipulation\n",
    "#Adding flags\n",
    "#Unnnest\n",
    "\n",
    "# Convert dates to timestamp for easier data manipulation\n",
    "df = df.astype({\"submit_date\":\"datetime64[ns]\", \"start\":\"datetime64[ns]\", \"ts\":\"datetime64[ns]\"})\n",
    "\n",
    "# Check if a user used lighting tools and assign a used_lighting flag\n",
    "df['used_lighting'] = np.where((df['parameters.sourceView'].str.contains('Light', na=False)), True, False)\n",
    "\n",
    "# Check if a user used bakeBackend and assign a used_bakeBackend flag\n",
    "df['bakeBackendflag'] = df[('parameters.bakeBackend')].notnull()\n",
    "\n",
    "# Extract hour from timestamp\n",
    "df['hour'] = pd.DatetimeIndex(df['ts']).hour\n",
    "\n",
    "# store number of sessions per user in df\n",
    "total_sessions = df.groupby(\"ID\")[\"sessionid\"].nunique()\n",
    "df = pd.merge(df,total_sessions,on='ID')\n",
    "df.rename(columns = {'sessionid_y':'session_count', 'sessionid_x':'sessionid'}, inplace = True)\n",
    "\n",
    "# Create session duration field by subtracting min timestamp of session from max timestamp of session \n",
    "df['sess_duration'] = df.groupby('sessionid') \\\n",
    "                        ['ts'] \\\n",
    "                        .transform(lambda x: (x.max()-x.min()))\n",
    "\n",
    "# Create a field for Session duration in hours \n",
    "df['sess_duration_h'] = round(df['sess_duration']/np.timedelta64(1,'h'),2)\n",
    "\n",
    "#Function 1\n",
    "#Bin hours into periods of time over the course of the day using a function\n",
    "def binning(col, cut_points, labels=None):\n",
    "  #Define min and max values:\n",
    "  minval = col.min()\n",
    "  maxval = col.max()\n",
    "\n",
    "  #create list by adding min and max to cut_points\n",
    "  break_points = [minval] + cut_points + [maxval]\n",
    "\n",
    "  #if no labels provided, use default labels 0 ... (n-1)\n",
    "  if not labels:\n",
    "    labels = range(len(cut_points)+1)\n",
    "\n",
    "  #Binning using cut function of pandas\n",
    "  colBin = pd.cut(col,bins=break_points,labels=labels,include_lowest=True)\n",
    "  return colBin\n",
    "\n",
    "#Create bins for time of day that the session was logged\n",
    "cut_points = [6.0,12.0,18.0]\n",
    "labels = [\"very early\",\"day\",\"afternoon/evening\",\"night\"]\n",
    "df[\"hour_bin\"] = binning(df[\"hour\"], cut_points, labels)"
   ]
  },
  {
   "cell_type": "code",
   "execution_count": 8,
   "metadata": {
    "scrolled": false
   },
   "outputs": [
    {
     "data": {
      "text/html": [
       "<div>\n",
       "<style scoped>\n",
       "    .dataframe tbody tr th:only-of-type {\n",
       "        vertical-align: middle;\n",
       "    }\n",
       "\n",
       "    .dataframe tbody tr th {\n",
       "        vertical-align: top;\n",
       "    }\n",
       "\n",
       "    .dataframe thead th {\n",
       "        text-align: right;\n",
       "    }\n",
       "</style>\n",
       "<table border=\"1\" class=\"dataframe\">\n",
       "  <thead>\n",
       "    <tr style=\"text-align: right;\">\n",
       "      <th></th>\n",
       "      <th>index</th>\n",
       "      <th>submit_date</th>\n",
       "      <th>ID</th>\n",
       "      <th>platform</th>\n",
       "      <th>sessionid</th>\n",
       "      <th>blocking</th>\n",
       "      <th>duration</th>\n",
       "      <th>start</th>\n",
       "      <th>subtype</th>\n",
       "      <th>ts</th>\n",
       "      <th>...</th>\n",
       "      <th>parameters.lightmapCompression</th>\n",
       "      <th>parameters.enlighten.finalGather.rayCount</th>\n",
       "      <th>parameters.enlighten.finalGather.denoise</th>\n",
       "      <th>used_lighting</th>\n",
       "      <th>bakeBackendflag</th>\n",
       "      <th>hour</th>\n",
       "      <th>session_count</th>\n",
       "      <th>sess_duration</th>\n",
       "      <th>sess_duration_h</th>\n",
       "      <th>hour_bin</th>\n",
       "    </tr>\n",
       "  </thead>\n",
       "  <tbody>\n",
       "    <tr>\n",
       "      <th>0</th>\n",
       "      <td>0</td>\n",
       "      <td>2021-10-28</td>\n",
       "      <td>v4/lL/HKf7A4Sqlx13944zkrx+oapLs+npaw9OUTTd4=</td>\n",
       "      <td>WindowsEditor</td>\n",
       "      <td>5314110829103121408</td>\n",
       "      <td>True</td>\n",
       "      <td>122556.0</td>\n",
       "      <td>2021-10-28 18:43:26.877443300</td>\n",
       "      <td>exitPlayMode</td>\n",
       "      <td>2021-10-28 18:43:27.169</td>\n",
       "      <td>...</td>\n",
       "      <td>NaN</td>\n",
       "      <td>NaN</td>\n",
       "      <td>NaN</td>\n",
       "      <td>False</td>\n",
       "      <td>False</td>\n",
       "      <td>18.0</td>\n",
       "      <td>2</td>\n",
       "      <td>0 days 00:00:15.941000</td>\n",
       "      <td>0.0</td>\n",
       "      <td>afternoon/evening</td>\n",
       "    </tr>\n",
       "    <tr>\n",
       "      <th>1</th>\n",
       "      <td>475721</td>\n",
       "      <td>2021-10-28</td>\n",
       "      <td>v4/lL/HKf7A4Sqlx13944zkrx+oapLs+npaw9OUTTd4=</td>\n",
       "      <td>WindowsEditor</td>\n",
       "      <td>5314110829103121408</td>\n",
       "      <td>True</td>\n",
       "      <td>1621767.0</td>\n",
       "      <td>2021-10-28 18:43:09.378232400</td>\n",
       "      <td>enterPlayMode</td>\n",
       "      <td>2021-10-28 18:43:11.228</td>\n",
       "      <td>...</td>\n",
       "      <td>NaN</td>\n",
       "      <td>NaN</td>\n",
       "      <td>NaN</td>\n",
       "      <td>False</td>\n",
       "      <td>False</td>\n",
       "      <td>18.0</td>\n",
       "      <td>2</td>\n",
       "      <td>0 days 00:00:15.941000</td>\n",
       "      <td>0.0</td>\n",
       "      <td>afternoon/evening</td>\n",
       "    </tr>\n",
       "    <tr>\n",
       "      <th>2</th>\n",
       "      <td>741731</td>\n",
       "      <td>2021-10-28</td>\n",
       "      <td>v4/lL/HKf7A4Sqlx13944zkrx+oapLs+npaw9OUTTd4=</td>\n",
       "      <td>WindowsEditor</td>\n",
       "      <td>8807512601416864768</td>\n",
       "      <td>True</td>\n",
       "      <td>9060060.0</td>\n",
       "      <td>2021-10-28 19:20:44.939939100</td>\n",
       "      <td>enterPlayMode</td>\n",
       "      <td>2021-10-28 19:20:54.548</td>\n",
       "      <td>...</td>\n",
       "      <td>NaN</td>\n",
       "      <td>NaN</td>\n",
       "      <td>NaN</td>\n",
       "      <td>False</td>\n",
       "      <td>False</td>\n",
       "      <td>19.0</td>\n",
       "      <td>2</td>\n",
       "      <td>0 days 00:00:00</td>\n",
       "      <td>0.0</td>\n",
       "      <td>night</td>\n",
       "    </tr>\n",
       "    <tr>\n",
       "      <th>3</th>\n",
       "      <td>883934</td>\n",
       "      <td>2021-10-28</td>\n",
       "      <td>v4/lL/HKf7A4Sqlx13944zkrx+oapLs+npaw9OUTTd4=</td>\n",
       "      <td>WindowsEditor</td>\n",
       "      <td>5314110829103121408</td>\n",
       "      <td>True</td>\n",
       "      <td>1216936.0</td>\n",
       "      <td>2021-10-28 18:43:18.783063600</td>\n",
       "      <td>enterPlayMode</td>\n",
       "      <td>2021-10-28 18:43:20.671</td>\n",
       "      <td>...</td>\n",
       "      <td>NaN</td>\n",
       "      <td>NaN</td>\n",
       "      <td>NaN</td>\n",
       "      <td>False</td>\n",
       "      <td>False</td>\n",
       "      <td>18.0</td>\n",
       "      <td>2</td>\n",
       "      <td>0 days 00:00:15.941000</td>\n",
       "      <td>0.0</td>\n",
       "      <td>afternoon/evening</td>\n",
       "    </tr>\n",
       "    <tr>\n",
       "      <th>4</th>\n",
       "      <td>1</td>\n",
       "      <td>2021-10-28</td>\n",
       "      <td>yneAbGInS6RdkU+np9wOhJxEq4Xx8ThHdiA4c0sH1Dw=</td>\n",
       "      <td>WindowsEditor</td>\n",
       "      <td>6233676446368430080</td>\n",
       "      <td>True</td>\n",
       "      <td>489308.0</td>\n",
       "      <td>2021-10-28 19:38:29.510691900</td>\n",
       "      <td>exitPlayMode</td>\n",
       "      <td>2021-10-28 19:38:30.189</td>\n",
       "      <td>...</td>\n",
       "      <td>NaN</td>\n",
       "      <td>NaN</td>\n",
       "      <td>NaN</td>\n",
       "      <td>False</td>\n",
       "      <td>False</td>\n",
       "      <td>19.0</td>\n",
       "      <td>1</td>\n",
       "      <td>0 days 00:11:54.870000</td>\n",
       "      <td>0.2</td>\n",
       "      <td>night</td>\n",
       "    </tr>\n",
       "  </tbody>\n",
       "</table>\n",
       "<p>5 rows × 65 columns</p>\n",
       "</div>"
      ],
      "text/plain": [
       "    index submit_date                                            ID  \\\n",
       "0       0  2021-10-28  v4/lL/HKf7A4Sqlx13944zkrx+oapLs+npaw9OUTTd4=   \n",
       "1  475721  2021-10-28  v4/lL/HKf7A4Sqlx13944zkrx+oapLs+npaw9OUTTd4=   \n",
       "2  741731  2021-10-28  v4/lL/HKf7A4Sqlx13944zkrx+oapLs+npaw9OUTTd4=   \n",
       "3  883934  2021-10-28  v4/lL/HKf7A4Sqlx13944zkrx+oapLs+npaw9OUTTd4=   \n",
       "4       1  2021-10-28  yneAbGInS6RdkU+np9wOhJxEq4Xx8ThHdiA4c0sH1Dw=   \n",
       "\n",
       "        platform            sessionid  blocking   duration  \\\n",
       "0  WindowsEditor  5314110829103121408      True   122556.0   \n",
       "1  WindowsEditor  5314110829103121408      True  1621767.0   \n",
       "2  WindowsEditor  8807512601416864768      True  9060060.0   \n",
       "3  WindowsEditor  5314110829103121408      True  1216936.0   \n",
       "4  WindowsEditor  6233676446368430080      True   489308.0   \n",
       "\n",
       "                          start        subtype                      ts  ...  \\\n",
       "0 2021-10-28 18:43:26.877443300   exitPlayMode 2021-10-28 18:43:27.169  ...   \n",
       "1 2021-10-28 18:43:09.378232400  enterPlayMode 2021-10-28 18:43:11.228  ...   \n",
       "2 2021-10-28 19:20:44.939939100  enterPlayMode 2021-10-28 19:20:54.548  ...   \n",
       "3 2021-10-28 18:43:18.783063600  enterPlayMode 2021-10-28 18:43:20.671  ...   \n",
       "4 2021-10-28 19:38:29.510691900   exitPlayMode 2021-10-28 19:38:30.189  ...   \n",
       "\n",
       "  parameters.lightmapCompression parameters.enlighten.finalGather.rayCount  \\\n",
       "0                            NaN                                       NaN   \n",
       "1                            NaN                                       NaN   \n",
       "2                            NaN                                       NaN   \n",
       "3                            NaN                                       NaN   \n",
       "4                            NaN                                       NaN   \n",
       "\n",
       "   parameters.enlighten.finalGather.denoise  used_lighting  bakeBackendflag  \\\n",
       "0                                       NaN          False            False   \n",
       "1                                       NaN          False            False   \n",
       "2                                       NaN          False            False   \n",
       "3                                       NaN          False            False   \n",
       "4                                       NaN          False            False   \n",
       "\n",
       "   hour  session_count           sess_duration sess_duration_h  \\\n",
       "0  18.0              2  0 days 00:00:15.941000             0.0   \n",
       "1  18.0              2  0 days 00:00:15.941000             0.0   \n",
       "2  19.0              2         0 days 00:00:00             0.0   \n",
       "3  18.0              2  0 days 00:00:15.941000             0.0   \n",
       "4  19.0              1  0 days 00:11:54.870000             0.2   \n",
       "\n",
       "            hour_bin  \n",
       "0  afternoon/evening  \n",
       "1  afternoon/evening  \n",
       "2              night  \n",
       "3  afternoon/evening  \n",
       "4              night  \n",
       "\n",
       "[5 rows x 65 columns]"
      ]
     },
     "execution_count": 8,
     "metadata": {},
     "output_type": "execute_result"
    }
   ],
   "source": [
    "df.head()"
   ]
  },
  {
   "cell_type": "code",
   "execution_count": 9,
   "metadata": {
    "scrolled": false
   },
   "outputs": [],
   "source": [
    "#df = df.reset_index()\n",
    "#df.drop(\"level_0\", axis=1, inplace=True)\n",
    "#df.drop(\"index\", axis=1, inplace=True)\n",
    "\n",
    "total_hours = df.groupby(\"ID\")[\"sess_duration_h\"].sum()\n",
    "df = pd.merge(df,total_hours,on='ID')\n",
    "df.rename(columns = {'sess_duration_h_x':'sess_duration_h', 'sess_duration_h_y':'total_hours'}, inplace = True)\n",
    "\n",
    "#df.head()"
   ]
  },
  {
   "cell_type": "code",
   "execution_count": 10,
   "metadata": {
    "scrolled": true
   },
   "outputs": [
    {
     "data": {
      "text/html": [
       "<div>\n",
       "<style scoped>\n",
       "    .dataframe tbody tr th:only-of-type {\n",
       "        vertical-align: middle;\n",
       "    }\n",
       "\n",
       "    .dataframe tbody tr th {\n",
       "        vertical-align: top;\n",
       "    }\n",
       "\n",
       "    .dataframe thead th {\n",
       "        text-align: right;\n",
       "    }\n",
       "</style>\n",
       "<table border=\"1\" class=\"dataframe\">\n",
       "  <thead>\n",
       "    <tr style=\"text-align: right;\">\n",
       "      <th></th>\n",
       "      <th>index</th>\n",
       "      <th>submit_date</th>\n",
       "      <th>ID</th>\n",
       "      <th>platform</th>\n",
       "      <th>sessionid</th>\n",
       "      <th>blocking</th>\n",
       "      <th>duration</th>\n",
       "      <th>start</th>\n",
       "      <th>subtype</th>\n",
       "      <th>ts</th>\n",
       "      <th>...</th>\n",
       "      <th>parameters.enlighten.finalGather.denoise</th>\n",
       "      <th>used_lighting</th>\n",
       "      <th>bakeBackendflag</th>\n",
       "      <th>hour</th>\n",
       "      <th>session_count</th>\n",
       "      <th>sess_duration</th>\n",
       "      <th>sess_duration_h</th>\n",
       "      <th>hour_bin</th>\n",
       "      <th>total_hours</th>\n",
       "      <th>use_category</th>\n",
       "    </tr>\n",
       "  </thead>\n",
       "  <tbody>\n",
       "    <tr>\n",
       "      <th>0</th>\n",
       "      <td>0</td>\n",
       "      <td>2021-10-28</td>\n",
       "      <td>v4/lL/HKf7A4Sqlx13944zkrx+oapLs+npaw9OUTTd4=</td>\n",
       "      <td>WindowsEditor</td>\n",
       "      <td>5314110829103121408</td>\n",
       "      <td>True</td>\n",
       "      <td>122556.0</td>\n",
       "      <td>2021-10-28 18:43:26.877443300</td>\n",
       "      <td>exitPlayMode</td>\n",
       "      <td>2021-10-28 18:43:27.169</td>\n",
       "      <td>...</td>\n",
       "      <td>NaN</td>\n",
       "      <td>False</td>\n",
       "      <td>False</td>\n",
       "      <td>18.0</td>\n",
       "      <td>2</td>\n",
       "      <td>0 days 00:00:15.941000</td>\n",
       "      <td>0.0</td>\n",
       "      <td>afternoon/evening</td>\n",
       "      <td>0.0</td>\n",
       "      <td>low</td>\n",
       "    </tr>\n",
       "    <tr>\n",
       "      <th>1</th>\n",
       "      <td>475721</td>\n",
       "      <td>2021-10-28</td>\n",
       "      <td>v4/lL/HKf7A4Sqlx13944zkrx+oapLs+npaw9OUTTd4=</td>\n",
       "      <td>WindowsEditor</td>\n",
       "      <td>5314110829103121408</td>\n",
       "      <td>True</td>\n",
       "      <td>1621767.0</td>\n",
       "      <td>2021-10-28 18:43:09.378232400</td>\n",
       "      <td>enterPlayMode</td>\n",
       "      <td>2021-10-28 18:43:11.228</td>\n",
       "      <td>...</td>\n",
       "      <td>NaN</td>\n",
       "      <td>False</td>\n",
       "      <td>False</td>\n",
       "      <td>18.0</td>\n",
       "      <td>2</td>\n",
       "      <td>0 days 00:00:15.941000</td>\n",
       "      <td>0.0</td>\n",
       "      <td>afternoon/evening</td>\n",
       "      <td>0.0</td>\n",
       "      <td>low</td>\n",
       "    </tr>\n",
       "    <tr>\n",
       "      <th>2</th>\n",
       "      <td>741731</td>\n",
       "      <td>2021-10-28</td>\n",
       "      <td>v4/lL/HKf7A4Sqlx13944zkrx+oapLs+npaw9OUTTd4=</td>\n",
       "      <td>WindowsEditor</td>\n",
       "      <td>8807512601416864768</td>\n",
       "      <td>True</td>\n",
       "      <td>9060060.0</td>\n",
       "      <td>2021-10-28 19:20:44.939939100</td>\n",
       "      <td>enterPlayMode</td>\n",
       "      <td>2021-10-28 19:20:54.548</td>\n",
       "      <td>...</td>\n",
       "      <td>NaN</td>\n",
       "      <td>False</td>\n",
       "      <td>False</td>\n",
       "      <td>19.0</td>\n",
       "      <td>2</td>\n",
       "      <td>0 days 00:00:00</td>\n",
       "      <td>0.0</td>\n",
       "      <td>night</td>\n",
       "      <td>0.0</td>\n",
       "      <td>low</td>\n",
       "    </tr>\n",
       "    <tr>\n",
       "      <th>3</th>\n",
       "      <td>883934</td>\n",
       "      <td>2021-10-28</td>\n",
       "      <td>v4/lL/HKf7A4Sqlx13944zkrx+oapLs+npaw9OUTTd4=</td>\n",
       "      <td>WindowsEditor</td>\n",
       "      <td>5314110829103121408</td>\n",
       "      <td>True</td>\n",
       "      <td>1216936.0</td>\n",
       "      <td>2021-10-28 18:43:18.783063600</td>\n",
       "      <td>enterPlayMode</td>\n",
       "      <td>2021-10-28 18:43:20.671</td>\n",
       "      <td>...</td>\n",
       "      <td>NaN</td>\n",
       "      <td>False</td>\n",
       "      <td>False</td>\n",
       "      <td>18.0</td>\n",
       "      <td>2</td>\n",
       "      <td>0 days 00:00:15.941000</td>\n",
       "      <td>0.0</td>\n",
       "      <td>afternoon/evening</td>\n",
       "      <td>0.0</td>\n",
       "      <td>low</td>\n",
       "    </tr>\n",
       "    <tr>\n",
       "      <th>4</th>\n",
       "      <td>1</td>\n",
       "      <td>2021-10-28</td>\n",
       "      <td>yneAbGInS6RdkU+np9wOhJxEq4Xx8ThHdiA4c0sH1Dw=</td>\n",
       "      <td>WindowsEditor</td>\n",
       "      <td>6233676446368430080</td>\n",
       "      <td>True</td>\n",
       "      <td>489308.0</td>\n",
       "      <td>2021-10-28 19:38:29.510691900</td>\n",
       "      <td>exitPlayMode</td>\n",
       "      <td>2021-10-28 19:38:30.189</td>\n",
       "      <td>...</td>\n",
       "      <td>NaN</td>\n",
       "      <td>False</td>\n",
       "      <td>False</td>\n",
       "      <td>19.0</td>\n",
       "      <td>1</td>\n",
       "      <td>0 days 00:11:54.870000</td>\n",
       "      <td>0.2</td>\n",
       "      <td>night</td>\n",
       "      <td>0.6</td>\n",
       "      <td>low</td>\n",
       "    </tr>\n",
       "  </tbody>\n",
       "</table>\n",
       "<p>5 rows × 67 columns</p>\n",
       "</div>"
      ],
      "text/plain": [
       "    index submit_date                                            ID  \\\n",
       "0       0  2021-10-28  v4/lL/HKf7A4Sqlx13944zkrx+oapLs+npaw9OUTTd4=   \n",
       "1  475721  2021-10-28  v4/lL/HKf7A4Sqlx13944zkrx+oapLs+npaw9OUTTd4=   \n",
       "2  741731  2021-10-28  v4/lL/HKf7A4Sqlx13944zkrx+oapLs+npaw9OUTTd4=   \n",
       "3  883934  2021-10-28  v4/lL/HKf7A4Sqlx13944zkrx+oapLs+npaw9OUTTd4=   \n",
       "4       1  2021-10-28  yneAbGInS6RdkU+np9wOhJxEq4Xx8ThHdiA4c0sH1Dw=   \n",
       "\n",
       "        platform            sessionid  blocking   duration  \\\n",
       "0  WindowsEditor  5314110829103121408      True   122556.0   \n",
       "1  WindowsEditor  5314110829103121408      True  1621767.0   \n",
       "2  WindowsEditor  8807512601416864768      True  9060060.0   \n",
       "3  WindowsEditor  5314110829103121408      True  1216936.0   \n",
       "4  WindowsEditor  6233676446368430080      True   489308.0   \n",
       "\n",
       "                          start        subtype                      ts  ...  \\\n",
       "0 2021-10-28 18:43:26.877443300   exitPlayMode 2021-10-28 18:43:27.169  ...   \n",
       "1 2021-10-28 18:43:09.378232400  enterPlayMode 2021-10-28 18:43:11.228  ...   \n",
       "2 2021-10-28 19:20:44.939939100  enterPlayMode 2021-10-28 19:20:54.548  ...   \n",
       "3 2021-10-28 18:43:18.783063600  enterPlayMode 2021-10-28 18:43:20.671  ...   \n",
       "4 2021-10-28 19:38:29.510691900   exitPlayMode 2021-10-28 19:38:30.189  ...   \n",
       "\n",
       "  parameters.enlighten.finalGather.denoise used_lighting  bakeBackendflag  \\\n",
       "0                                      NaN         False            False   \n",
       "1                                      NaN         False            False   \n",
       "2                                      NaN         False            False   \n",
       "3                                      NaN         False            False   \n",
       "4                                      NaN         False            False   \n",
       "\n",
       "   hour  session_count           sess_duration  sess_duration_h  \\\n",
       "0  18.0              2  0 days 00:00:15.941000              0.0   \n",
       "1  18.0              2  0 days 00:00:15.941000              0.0   \n",
       "2  19.0              2         0 days 00:00:00              0.0   \n",
       "3  18.0              2  0 days 00:00:15.941000              0.0   \n",
       "4  19.0              1  0 days 00:11:54.870000              0.2   \n",
       "\n",
       "            hour_bin total_hours use_category  \n",
       "0  afternoon/evening         0.0          low  \n",
       "1  afternoon/evening         0.0          low  \n",
       "2              night         0.0          low  \n",
       "3  afternoon/evening         0.0          low  \n",
       "4              night         0.6          low  \n",
       "\n",
       "[5 rows x 67 columns]"
      ]
     },
     "execution_count": 10,
     "metadata": {},
     "output_type": "execute_result"
    }
   ],
   "source": [
    "#Create bins based on how much time the user has spent and how engaged they are\n",
    "cut_points = [10.0,20.0,50.0]\n",
    "labels = [\"low\",\"medium\",\"high\",\"very high\"]\n",
    "df[\"use_category\"] = binning(df[\"total_hours\"], cut_points, labels)\n",
    "df.head()"
   ]
  },
  {
   "cell_type": "code",
   "execution_count": 11,
   "metadata": {
    "scrolled": true
   },
   "outputs": [
    {
     "data": {
      "text/html": [
       "<div>\n",
       "<style scoped>\n",
       "    .dataframe tbody tr th:only-of-type {\n",
       "        vertical-align: middle;\n",
       "    }\n",
       "\n",
       "    .dataframe tbody tr th {\n",
       "        vertical-align: top;\n",
       "    }\n",
       "\n",
       "    .dataframe thead th {\n",
       "        text-align: right;\n",
       "    }\n",
       "</style>\n",
       "<table border=\"1\" class=\"dataframe\">\n",
       "  <thead>\n",
       "    <tr style=\"text-align: right;\">\n",
       "      <th></th>\n",
       "      <th>index</th>\n",
       "      <th>submit_date</th>\n",
       "      <th>ID</th>\n",
       "      <th>platform</th>\n",
       "      <th>sessionid</th>\n",
       "      <th>blocking</th>\n",
       "      <th>duration</th>\n",
       "      <th>start</th>\n",
       "      <th>subtype</th>\n",
       "      <th>ts</th>\n",
       "      <th>...</th>\n",
       "      <th>used_lighting</th>\n",
       "      <th>bakeBackendflag</th>\n",
       "      <th>hour</th>\n",
       "      <th>session_count</th>\n",
       "      <th>sess_duration</th>\n",
       "      <th>sess_duration_h</th>\n",
       "      <th>hour_bin</th>\n",
       "      <th>total_hours</th>\n",
       "      <th>use_category</th>\n",
       "      <th>sess_category</th>\n",
       "    </tr>\n",
       "  </thead>\n",
       "  <tbody>\n",
       "    <tr>\n",
       "      <th>0</th>\n",
       "      <td>0</td>\n",
       "      <td>2021-10-28</td>\n",
       "      <td>v4/lL/HKf7A4Sqlx13944zkrx+oapLs+npaw9OUTTd4=</td>\n",
       "      <td>WindowsEditor</td>\n",
       "      <td>5314110829103121408</td>\n",
       "      <td>True</td>\n",
       "      <td>122556.0</td>\n",
       "      <td>2021-10-28 18:43:26.877443300</td>\n",
       "      <td>exitPlayMode</td>\n",
       "      <td>2021-10-28 18:43:27.169</td>\n",
       "      <td>...</td>\n",
       "      <td>False</td>\n",
       "      <td>False</td>\n",
       "      <td>18.0</td>\n",
       "      <td>2</td>\n",
       "      <td>0 days 00:00:15.941000</td>\n",
       "      <td>0.0</td>\n",
       "      <td>afternoon/evening</td>\n",
       "      <td>0.0</td>\n",
       "      <td>low</td>\n",
       "      <td>2 or less</td>\n",
       "    </tr>\n",
       "    <tr>\n",
       "      <th>1</th>\n",
       "      <td>475721</td>\n",
       "      <td>2021-10-28</td>\n",
       "      <td>v4/lL/HKf7A4Sqlx13944zkrx+oapLs+npaw9OUTTd4=</td>\n",
       "      <td>WindowsEditor</td>\n",
       "      <td>5314110829103121408</td>\n",
       "      <td>True</td>\n",
       "      <td>1621767.0</td>\n",
       "      <td>2021-10-28 18:43:09.378232400</td>\n",
       "      <td>enterPlayMode</td>\n",
       "      <td>2021-10-28 18:43:11.228</td>\n",
       "      <td>...</td>\n",
       "      <td>False</td>\n",
       "      <td>False</td>\n",
       "      <td>18.0</td>\n",
       "      <td>2</td>\n",
       "      <td>0 days 00:00:15.941000</td>\n",
       "      <td>0.0</td>\n",
       "      <td>afternoon/evening</td>\n",
       "      <td>0.0</td>\n",
       "      <td>low</td>\n",
       "      <td>2 or less</td>\n",
       "    </tr>\n",
       "    <tr>\n",
       "      <th>2</th>\n",
       "      <td>741731</td>\n",
       "      <td>2021-10-28</td>\n",
       "      <td>v4/lL/HKf7A4Sqlx13944zkrx+oapLs+npaw9OUTTd4=</td>\n",
       "      <td>WindowsEditor</td>\n",
       "      <td>8807512601416864768</td>\n",
       "      <td>True</td>\n",
       "      <td>9060060.0</td>\n",
       "      <td>2021-10-28 19:20:44.939939100</td>\n",
       "      <td>enterPlayMode</td>\n",
       "      <td>2021-10-28 19:20:54.548</td>\n",
       "      <td>...</td>\n",
       "      <td>False</td>\n",
       "      <td>False</td>\n",
       "      <td>19.0</td>\n",
       "      <td>2</td>\n",
       "      <td>0 days 00:00:00</td>\n",
       "      <td>0.0</td>\n",
       "      <td>night</td>\n",
       "      <td>0.0</td>\n",
       "      <td>low</td>\n",
       "      <td>2 or less</td>\n",
       "    </tr>\n",
       "    <tr>\n",
       "      <th>3</th>\n",
       "      <td>883934</td>\n",
       "      <td>2021-10-28</td>\n",
       "      <td>v4/lL/HKf7A4Sqlx13944zkrx+oapLs+npaw9OUTTd4=</td>\n",
       "      <td>WindowsEditor</td>\n",
       "      <td>5314110829103121408</td>\n",
       "      <td>True</td>\n",
       "      <td>1216936.0</td>\n",
       "      <td>2021-10-28 18:43:18.783063600</td>\n",
       "      <td>enterPlayMode</td>\n",
       "      <td>2021-10-28 18:43:20.671</td>\n",
       "      <td>...</td>\n",
       "      <td>False</td>\n",
       "      <td>False</td>\n",
       "      <td>18.0</td>\n",
       "      <td>2</td>\n",
       "      <td>0 days 00:00:15.941000</td>\n",
       "      <td>0.0</td>\n",
       "      <td>afternoon/evening</td>\n",
       "      <td>0.0</td>\n",
       "      <td>low</td>\n",
       "      <td>2 or less</td>\n",
       "    </tr>\n",
       "    <tr>\n",
       "      <th>4</th>\n",
       "      <td>1</td>\n",
       "      <td>2021-10-28</td>\n",
       "      <td>yneAbGInS6RdkU+np9wOhJxEq4Xx8ThHdiA4c0sH1Dw=</td>\n",
       "      <td>WindowsEditor</td>\n",
       "      <td>6233676446368430080</td>\n",
       "      <td>True</td>\n",
       "      <td>489308.0</td>\n",
       "      <td>2021-10-28 19:38:29.510691900</td>\n",
       "      <td>exitPlayMode</td>\n",
       "      <td>2021-10-28 19:38:30.189</td>\n",
       "      <td>...</td>\n",
       "      <td>False</td>\n",
       "      <td>False</td>\n",
       "      <td>19.0</td>\n",
       "      <td>1</td>\n",
       "      <td>0 days 00:11:54.870000</td>\n",
       "      <td>0.2</td>\n",
       "      <td>night</td>\n",
       "      <td>0.6</td>\n",
       "      <td>low</td>\n",
       "      <td>2 or less</td>\n",
       "    </tr>\n",
       "  </tbody>\n",
       "</table>\n",
       "<p>5 rows × 68 columns</p>\n",
       "</div>"
      ],
      "text/plain": [
       "    index submit_date                                            ID  \\\n",
       "0       0  2021-10-28  v4/lL/HKf7A4Sqlx13944zkrx+oapLs+npaw9OUTTd4=   \n",
       "1  475721  2021-10-28  v4/lL/HKf7A4Sqlx13944zkrx+oapLs+npaw9OUTTd4=   \n",
       "2  741731  2021-10-28  v4/lL/HKf7A4Sqlx13944zkrx+oapLs+npaw9OUTTd4=   \n",
       "3  883934  2021-10-28  v4/lL/HKf7A4Sqlx13944zkrx+oapLs+npaw9OUTTd4=   \n",
       "4       1  2021-10-28  yneAbGInS6RdkU+np9wOhJxEq4Xx8ThHdiA4c0sH1Dw=   \n",
       "\n",
       "        platform            sessionid  blocking   duration  \\\n",
       "0  WindowsEditor  5314110829103121408      True   122556.0   \n",
       "1  WindowsEditor  5314110829103121408      True  1621767.0   \n",
       "2  WindowsEditor  8807512601416864768      True  9060060.0   \n",
       "3  WindowsEditor  5314110829103121408      True  1216936.0   \n",
       "4  WindowsEditor  6233676446368430080      True   489308.0   \n",
       "\n",
       "                          start        subtype                      ts  ...  \\\n",
       "0 2021-10-28 18:43:26.877443300   exitPlayMode 2021-10-28 18:43:27.169  ...   \n",
       "1 2021-10-28 18:43:09.378232400  enterPlayMode 2021-10-28 18:43:11.228  ...   \n",
       "2 2021-10-28 19:20:44.939939100  enterPlayMode 2021-10-28 19:20:54.548  ...   \n",
       "3 2021-10-28 18:43:18.783063600  enterPlayMode 2021-10-28 18:43:20.671  ...   \n",
       "4 2021-10-28 19:38:29.510691900   exitPlayMode 2021-10-28 19:38:30.189  ...   \n",
       "\n",
       "  used_lighting bakeBackendflag  hour  session_count           sess_duration  \\\n",
       "0         False           False  18.0              2  0 days 00:00:15.941000   \n",
       "1         False           False  18.0              2  0 days 00:00:15.941000   \n",
       "2         False           False  19.0              2         0 days 00:00:00   \n",
       "3         False           False  18.0              2  0 days 00:00:15.941000   \n",
       "4         False           False  19.0              1  0 days 00:11:54.870000   \n",
       "\n",
       "  sess_duration_h           hour_bin  total_hours use_category sess_category  \n",
       "0             0.0  afternoon/evening          0.0          low     2 or less  \n",
       "1             0.0  afternoon/evening          0.0          low     2 or less  \n",
       "2             0.0              night          0.0          low     2 or less  \n",
       "3             0.0  afternoon/evening          0.0          low     2 or less  \n",
       "4             0.2              night          0.6          low     2 or less  \n",
       "\n",
       "[5 rows x 68 columns]"
      ]
     },
     "execution_count": 11,
     "metadata": {},
     "output_type": "execute_result"
    }
   ],
   "source": [
    "#Create bins based on number of sessions\n",
    "cut_points = [2,5,10]\n",
    "labels = [\"2 or less\",\"3 to 5\",\"6 to 10\",\">10\"]\n",
    "df[\"sess_category\"] = binning(df[\"session_count\"], cut_points, labels)\n",
    "df.head()"
   ]
  },
  {
   "cell_type": "code",
   "execution_count": 28,
   "metadata": {
    "scrolled": true
   },
   "outputs": [
    {
     "data": {
      "text/plain": [
       "1.52"
      ]
     },
     "execution_count": 28,
     "metadata": {},
     "output_type": "execute_result"
    }
   ],
   "source": [
    "#Average number of sessions across all users\n",
    "round(df.groupby(\"ID\")[\"sessionid\"].nunique().mean(),2)"
   ]
  },
  {
   "cell_type": "code",
   "execution_count": 20,
   "metadata": {
    "scrolled": true
   },
   "outputs": [
    {
     "data": {
      "text/html": [
       "<div>\n",
       "<style scoped>\n",
       "    .dataframe tbody tr th:only-of-type {\n",
       "        vertical-align: middle;\n",
       "    }\n",
       "\n",
       "    .dataframe tbody tr th {\n",
       "        vertical-align: top;\n",
       "    }\n",
       "\n",
       "    .dataframe thead th {\n",
       "        text-align: right;\n",
       "    }\n",
       "</style>\n",
       "<table border=\"1\" class=\"dataframe\">\n",
       "  <thead>\n",
       "    <tr style=\"text-align: right;\">\n",
       "      <th></th>\n",
       "      <th>index</th>\n",
       "      <th>submit_date</th>\n",
       "      <th>ID</th>\n",
       "      <th>platform</th>\n",
       "      <th>sessionid</th>\n",
       "      <th>blocking</th>\n",
       "      <th>duration</th>\n",
       "      <th>start</th>\n",
       "      <th>subtype</th>\n",
       "      <th>ts</th>\n",
       "      <th>...</th>\n",
       "      <th>used_lighting</th>\n",
       "      <th>bakeBackendflag</th>\n",
       "      <th>hour</th>\n",
       "      <th>session_count</th>\n",
       "      <th>sess_duration</th>\n",
       "      <th>sess_duration_h</th>\n",
       "      <th>hour_bin</th>\n",
       "      <th>total_hours</th>\n",
       "      <th>use_category</th>\n",
       "      <th>sess_category</th>\n",
       "    </tr>\n",
       "  </thead>\n",
       "  <tbody>\n",
       "    <tr>\n",
       "      <th>6451</th>\n",
       "      <td>906585</td>\n",
       "      <td>2021-10-28</td>\n",
       "      <td>73i8XZyJ/VH06gpXU1oObIZPCKSjnx8FBg/O96Sb6IY=</td>\n",
       "      <td>WindowsEditor</td>\n",
       "      <td>8783197995654857728</td>\n",
       "      <td>False</td>\n",
       "      <td>8573294.0</td>\n",
       "      <td>2021-10-28 17:39:30.430414500</td>\n",
       "      <td>computeLighting</td>\n",
       "      <td>2021-10-28 17:39:39.004</td>\n",
       "      <td>...</td>\n",
       "      <td>True</td>\n",
       "      <td>True</td>\n",
       "      <td>17.0</td>\n",
       "      <td>4</td>\n",
       "      <td>0 days 00:02:02.973000</td>\n",
       "      <td>0.03</td>\n",
       "      <td>afternoon/evening</td>\n",
       "      <td>168.41</td>\n",
       "      <td>very high</td>\n",
       "      <td>3 to 5</td>\n",
       "    </tr>\n",
       "    <tr>\n",
       "      <th>6452</th>\n",
       "      <td>920687</td>\n",
       "      <td>2021-10-28</td>\n",
       "      <td>73i8XZyJ/VH06gpXU1oObIZPCKSjnx8FBg/O96Sb6IY=</td>\n",
       "      <td>WindowsEditor</td>\n",
       "      <td>8262643206070763520</td>\n",
       "      <td>False</td>\n",
       "      <td>13758999.0</td>\n",
       "      <td>2021-10-28 19:00:31.112072600</td>\n",
       "      <td>computeLighting</td>\n",
       "      <td>2021-10-28 19:00:44.871</td>\n",
       "      <td>...</td>\n",
       "      <td>True</td>\n",
       "      <td>True</td>\n",
       "      <td>19.0</td>\n",
       "      <td>4</td>\n",
       "      <td>0 days 02:37:03.189000</td>\n",
       "      <td>2.62</td>\n",
       "      <td>night</td>\n",
       "      <td>168.41</td>\n",
       "      <td>very high</td>\n",
       "      <td>3 to 5</td>\n",
       "    </tr>\n",
       "    <tr>\n",
       "      <th>6453</th>\n",
       "      <td>920688</td>\n",
       "      <td>2021-10-28</td>\n",
       "      <td>73i8XZyJ/VH06gpXU1oObIZPCKSjnx8FBg/O96Sb6IY=</td>\n",
       "      <td>WindowsEditor</td>\n",
       "      <td>8783197995654857728</td>\n",
       "      <td>False</td>\n",
       "      <td>11691616.0</td>\n",
       "      <td>2021-10-28 17:37:24.338943700</td>\n",
       "      <td>computeLighting</td>\n",
       "      <td>2021-10-28 17:37:36.031</td>\n",
       "      <td>...</td>\n",
       "      <td>True</td>\n",
       "      <td>True</td>\n",
       "      <td>17.0</td>\n",
       "      <td>4</td>\n",
       "      <td>0 days 00:02:02.973000</td>\n",
       "      <td>0.03</td>\n",
       "      <td>afternoon/evening</td>\n",
       "      <td>168.41</td>\n",
       "      <td>very high</td>\n",
       "      <td>3 to 5</td>\n",
       "    </tr>\n",
       "    <tr>\n",
       "      <th>6454</th>\n",
       "      <td>967402</td>\n",
       "      <td>2021-10-28</td>\n",
       "      <td>73i8XZyJ/VH06gpXU1oObIZPCKSjnx8FBg/O96Sb6IY=</td>\n",
       "      <td>WindowsEditor</td>\n",
       "      <td>5888455541594783744</td>\n",
       "      <td>False</td>\n",
       "      <td>11796466.0</td>\n",
       "      <td>2021-10-28 11:54:15.006467500</td>\n",
       "      <td>computeLighting</td>\n",
       "      <td>2021-10-28 11:54:26.802</td>\n",
       "      <td>...</td>\n",
       "      <td>True</td>\n",
       "      <td>True</td>\n",
       "      <td>11.0</td>\n",
       "      <td>4</td>\n",
       "      <td>0 days 00:55:27.546000</td>\n",
       "      <td>0.92</td>\n",
       "      <td>day</td>\n",
       "      <td>168.41</td>\n",
       "      <td>very high</td>\n",
       "      <td>3 to 5</td>\n",
       "    </tr>\n",
       "    <tr>\n",
       "      <th>6455</th>\n",
       "      <td>972770</td>\n",
       "      <td>2021-10-28</td>\n",
       "      <td>73i8XZyJ/VH06gpXU1oObIZPCKSjnx8FBg/O96Sb6IY=</td>\n",
       "      <td>WindowsEditor</td>\n",
       "      <td>5888455541594783744</td>\n",
       "      <td>False</td>\n",
       "      <td>8617926.0</td>\n",
       "      <td>2021-10-28 11:39:01.027066900</td>\n",
       "      <td>computeLighting</td>\n",
       "      <td>2021-10-28 11:39:09.644</td>\n",
       "      <td>...</td>\n",
       "      <td>True</td>\n",
       "      <td>True</td>\n",
       "      <td>11.0</td>\n",
       "      <td>4</td>\n",
       "      <td>0 days 00:55:27.546000</td>\n",
       "      <td>0.92</td>\n",
       "      <td>day</td>\n",
       "      <td>168.41</td>\n",
       "      <td>very high</td>\n",
       "      <td>3 to 5</td>\n",
       "    </tr>\n",
       "  </tbody>\n",
       "</table>\n",
       "<p>5 rows × 68 columns</p>\n",
       "</div>"
      ],
      "text/plain": [
       "       index submit_date                                            ID  \\\n",
       "6451  906585  2021-10-28  73i8XZyJ/VH06gpXU1oObIZPCKSjnx8FBg/O96Sb6IY=   \n",
       "6452  920687  2021-10-28  73i8XZyJ/VH06gpXU1oObIZPCKSjnx8FBg/O96Sb6IY=   \n",
       "6453  920688  2021-10-28  73i8XZyJ/VH06gpXU1oObIZPCKSjnx8FBg/O96Sb6IY=   \n",
       "6454  967402  2021-10-28  73i8XZyJ/VH06gpXU1oObIZPCKSjnx8FBg/O96Sb6IY=   \n",
       "6455  972770  2021-10-28  73i8XZyJ/VH06gpXU1oObIZPCKSjnx8FBg/O96Sb6IY=   \n",
       "\n",
       "           platform            sessionid  blocking    duration  \\\n",
       "6451  WindowsEditor  8783197995654857728     False   8573294.0   \n",
       "6452  WindowsEditor  8262643206070763520     False  13758999.0   \n",
       "6453  WindowsEditor  8783197995654857728     False  11691616.0   \n",
       "6454  WindowsEditor  5888455541594783744     False  11796466.0   \n",
       "6455  WindowsEditor  5888455541594783744     False   8617926.0   \n",
       "\n",
       "                             start          subtype                      ts  \\\n",
       "6451 2021-10-28 17:39:30.430414500  computeLighting 2021-10-28 17:39:39.004   \n",
       "6452 2021-10-28 19:00:31.112072600  computeLighting 2021-10-28 19:00:44.871   \n",
       "6453 2021-10-28 17:37:24.338943700  computeLighting 2021-10-28 17:37:36.031   \n",
       "6454 2021-10-28 11:54:15.006467500  computeLighting 2021-10-28 11:54:26.802   \n",
       "6455 2021-10-28 11:39:01.027066900  computeLighting 2021-10-28 11:39:09.644   \n",
       "\n",
       "      ... used_lighting bakeBackendflag  hour  session_count  \\\n",
       "6451  ...          True            True  17.0              4   \n",
       "6452  ...          True            True  19.0              4   \n",
       "6453  ...          True            True  17.0              4   \n",
       "6454  ...          True            True  11.0              4   \n",
       "6455  ...          True            True  11.0              4   \n",
       "\n",
       "               sess_duration sess_duration_h           hour_bin  total_hours  \\\n",
       "6451  0 days 00:02:02.973000            0.03  afternoon/evening       168.41   \n",
       "6452  0 days 02:37:03.189000            2.62              night       168.41   \n",
       "6453  0 days 00:02:02.973000            0.03  afternoon/evening       168.41   \n",
       "6454  0 days 00:55:27.546000            0.92                day       168.41   \n",
       "6455  0 days 00:55:27.546000            0.92                day       168.41   \n",
       "\n",
       "     use_category sess_category  \n",
       "6451    very high        3 to 5  \n",
       "6452    very high        3 to 5  \n",
       "6453    very high        3 to 5  \n",
       "6454    very high        3 to 5  \n",
       "6455    very high        3 to 5  \n",
       "\n",
       "[5 rows x 68 columns]"
      ]
     },
     "execution_count": 20,
     "metadata": {},
     "output_type": "execute_result"
    }
   ],
   "source": [
    "# Create a subset dataframe on the condition that lighting tools were used\n",
    "df_lighting = df[df['used_lighting'] == True]\n",
    "df_lighting.head()"
   ]
  },
  {
   "cell_type": "code",
   "execution_count": 113,
   "metadata": {
    "scrolled": true
   },
   "outputs": [],
   "source": [
    "# Export to csv in order to use a GUI view to look at the raw data and work with pivots\n",
    "df_lighting.to_csv('C:/Users/majum/Desktop/data_processed.csv', index=False, encoding='utf-8')"
   ]
  },
  {
   "cell_type": "code",
   "execution_count": 45,
   "metadata": {
    "scrolled": true
   },
   "outputs": [],
   "source": [
    "# Data Manipulation to get duration from time stamps\n",
    "# Calculate minimum and maximum time of each session\n",
    "# Note: df_lighting is a subset of df where used_lighting is true\n",
    "# Note: df_light is  a subset of all lighting tool users with their min, max and difference timestamps \n",
    "\n",
    "#df_time = pd.DataFrame()\n",
    "#df_time[\"max\"] = df[df['parameters.sourceView'].str.contains('Light', na=False)].groupby(\"sessionid\")[\"ts\"].max()\n",
    "#df_time[\"min\"] = df[df['parameters.sourceView'].str.contains('Light', na=False)].groupby(\"sessionid\")[\"ts\"].min()\n",
    "#df_time\n",
    "\n",
    "#df_time['min'] = pd.to_datetime(df_light['min'])\n",
    "#df_time['max'] = pd.to_datetime(df_light['max'])\n",
    "\n",
    "#df_time[\"diff\"] = df_light[\"max\"]- df_light[\"min\"]\n",
    "#df_time"
   ]
  },
  {
   "cell_type": "markdown",
   "metadata": {},
   "source": [
    "Questions (sent to you via Slack by the PM)\n",
    "\n",
    "1. How many Creators are using our Lighting tools? -> Answered.\n",
    "metrics: parameters.SourceView, ID \n",
    "\n",
    "2. What user insights do we have on them? -> Answered.\n",
    "metrics: ID, sessionID, platform, ts, license\n",
    "\n",
    "3. How much time do they generally spend on our Lighting tools? -> Answered.\n",
    "metrics: duration, ts, sessionid, parameters (parameters.SourceView)\n",
    "\n",
    "4. Are they satisfied with our current offerings? \n",
    "\n",
    "\n",
    "Questions (sent to you via Slack by the EM)\n",
    "\n",
    "1. Do Creators experience any errors when using our Lighting tools? \n",
    "metrics: parameters.scriptDebugInfoEnabled, parameters.outcome, parameters.didCompile\n",
    "\n",
    "2. How many Creators use “bakeBackend”? -> Answered.\n",
    "metrics: ID, sessionID, parameters.bakeBackend\n",
    "\n",
    "3. Which version of “bakeBackend” is used the most? -> Answered.\n",
    "metrics: ID, sessionID, parameters.bakeBackend\n",
    "\n",
    "4. How many Creators use the Menu button in the Unity Editor to find our Lighting tools? -> Answered.\n",
    "metrics: ID, sessionID, parameters.SourceView\n",
    "\n",
    "5. What is the preferred Lightmap size? -> Answered.\n",
    "metrics:ID, parameters.lightmapsize"
   ]
  },
  {
   "cell_type": "markdown",
   "metadata": {},
   "source": [
    "# Phase 2 - Analysis and Answers"
   ]
  },
  {
   "cell_type": "code",
   "execution_count": 10,
   "metadata": {
    "scrolled": false
   },
   "outputs": [
    {
     "data": {
      "text/plain": [
       "977937"
      ]
     },
     "execution_count": 10,
     "metadata": {},
     "output_type": "execute_result"
    }
   ],
   "source": [
    "# Total instances of players logging events excluding nulls\n",
    "df['ID'].count()"
   ]
  },
  {
   "cell_type": "code",
   "execution_count": 14,
   "metadata": {
    "scrolled": true
   },
   "outputs": [
    {
     "data": {
      "text/plain": [
       "75756"
      ]
     },
     "execution_count": 14,
     "metadata": {},
     "output_type": "execute_result"
    }
   ],
   "source": [
    "# Unique Users\n",
    "df['ID'].nunique()"
   ]
  },
  {
   "cell_type": "code",
   "execution_count": 15,
   "metadata": {
    "scrolled": false
   },
   "outputs": [
    {
     "name": "stdout",
     "output_type": "stream",
     "text": [
      "Overall usage by time of day:\n",
      " afternoon/evening    501005\n",
      "night                258696\n",
      "day                  204653\n",
      "very early            13412\n",
      "Name: hour_bin, dtype: int64\n"
     ]
    }
   ],
   "source": [
    "print (\"Overall usage by time of day:\\n\", pd.value_counts(df[\"hour_bin\"], sort=True))"
   ]
  },
  {
   "cell_type": "code",
   "execution_count": null,
   "metadata": {
    "scrolled": true
   },
   "outputs": [],
   "source": [
    "df.head()"
   ]
  },
  {
   "cell_type": "markdown",
   "metadata": {},
   "source": [
    "## 1. How many Creators are using our Lighting tools?"
   ]
  },
  {
   "cell_type": "code",
   "execution_count": 16,
   "metadata": {
    "scrolled": true
   },
   "outputs": [
    {
     "name": "stdout",
     "output_type": "stream",
     "text": [
      "Total number of unique users using Unity: 75756\n",
      "Users using Unity Editor: 69170\n",
      "Percentage of users using the Unity Editor: 91.3 %\n",
      "Users using Lighting Window from Unity Editor: 794\n",
      "Users Lighting Tools: 800\n",
      "Percentage of users using Lighting Window from Unity Editor: 1.15 %\n"
     ]
    }
   ],
   "source": [
    "# Question 1 and Question 8 (Counts)\n",
    "\n",
    "#Number of unique users using Unity Editor\n",
    "unityeditor = df[df['parameters.sourceView'].str.contains('UnityEditor', na=False)].groupby(\"parameters.sourceView\")[\"ID\"].nunique().sum()\n",
    "#Number of unique users using Lighting Window from Unity Editor\n",
    "lightingwindow = df[df['parameters.sourceView'].str.contains('UnityEditor.LightingWindow', na=False)].groupby(\"parameters.sourceView\")[\"ID\"].nunique().sum()\n",
    "#Number of unique users using Lighting Tools including Unity Editor\n",
    "lightingtools = df[df['parameters.sourceView'].str.contains('Light', na=False)].groupby(\"parameters.sourceView\")[\"ID\"].nunique().sum()\n",
    "print (\"Total number of unique users using Unity:\", df['ID'].nunique())\n",
    "print(\"Users using Unity Editor:\", unityeditor)\n",
    "print(\"Percentage of users using the Unity Editor:\", round((unityeditor/(df['ID'].nunique())*100),1),\"%\")\n",
    "print (\"Users using Lighting Window from Unity Editor:\", lightingwindow)\n",
    "print (\"Users Lighting Tools:\", lightingtools)\n",
    "print (\"Percentage of users using Lighting Window from Unity Editor:\", round((lightingwindow/unityeditor)*100,2), \"%\")"
   ]
  },
  {
   "cell_type": "markdown",
   "metadata": {},
   "source": [
    "## 2. What user insights do we have on them? "
   ]
  },
  {
   "cell_type": "code",
   "execution_count": 17,
   "metadata": {
    "scrolled": false
   },
   "outputs": [
    {
     "name": "stdout",
     "output_type": "stream",
     "text": [
      "Average number of sessions per user: 1.52\n",
      "Average number of sessions per users who use Lighting Tools: 1.16\n",
      "Max number of sessions per users who use Lighting Tools: 4\n",
      "Min number of sessions logged per users who use Lighting Tools: 1\n",
      "\n",
      "Platform breakdown:\n",
      " platform\n",
      "LinuxEditor        2\n",
      "OSXEditor         21\n",
      "WindowsEditor    776\n",
      "Name: ID, dtype: int64\n",
      "\n",
      "The majority of Lighting Tool users are Windows users\n",
      "Time of day lighting tool users used Unity:\n",
      " afternoon/evening    1100\n",
      "night                 502\n",
      "day                   492\n",
      "very early             11\n",
      "Name: hour_bin, dtype: int64\n",
      "\n",
      " Most lighting tool users engaged during the Afternoon/Evening in light with overall usage stats.\n"
     ]
    }
   ],
   "source": [
    "# Question 2\n",
    "\n",
    "print(\"Average number of sessions per user:\", round(df.groupby(\"ID\")[\"sessionid\"].nunique().mean(),2))\n",
    "print(\"Average number of sessions per users who use Lighting Tools:\", round(df[df['parameters.sourceView'].str.contains('Light', na=False)].groupby(\"ID\")[\"sessionid\"].nunique().mean(),2) )\n",
    "print(\"Max number of sessions per users who use Lighting Tools:\", round(df[df['parameters.sourceView'].str.contains('Light', na=False)].groupby(\"ID\")[\"sessionid\"].nunique().max(),2))\n",
    "print(\"Min number of sessions logged per users who use Lighting Tools:\", round(df[df['parameters.sourceView'].str.contains('Light', na=False)].groupby(\"ID\")[\"sessionid\"].nunique().min(),2))\n",
    "\n",
    "print(\"\\nPlatform breakdown:\\n\", df[df['parameters.sourceView'].str.contains('Light', na=False)].groupby(\"platform\")[\"ID\"].nunique())\n",
    "print('\\nThe majority of Lighting Tool users are Windows users')\n",
    "\n",
    "df[df[\"used_lighting\"]== 'True']\n",
    "\n",
    "print ('Time of day lighting tool users used Unity:\\n', pd.value_counts(df_lighting[\"hour_bin\"], sort=True))\n",
    "print(\"\\n Most lighting tool users engaged during the Afternoon/Evening in light with overall usage stats.\")"
   ]
  },
  {
   "cell_type": "markdown",
   "metadata": {},
   "source": [
    "## 3. How much time do they generally spend on our Lighting tools?"
   ]
  },
  {
   "cell_type": "code",
   "execution_count": 22,
   "metadata": {
    "scrolled": true
   },
   "outputs": [
    {
     "name": "stdout",
     "output_type": "stream",
     "text": [
      "Average total time spent by users on lighting tools: 6.483704630788488\n",
      "Average time spent on lighting tools per session: 2.4610356294536806\n",
      "The Average session length is: 2.5744906552262914 hours\n",
      "The Average total time spent is: 33.2283836263814 hours\n"
     ]
    }
   ],
   "source": [
    "# Average time spent by users on lighting tools overall (all sessions)\n",
    "print(\"Average total time spent by users on lighting tools:\", df_lighting.groupby(['ID'])[\"sess_duration_h\"].sum().mean())\n",
    "\n",
    "# Average time spent on lighting tools per session \n",
    "print(\"Average time spent on lighting tools per session:\", df_lighting[\"sess_duration_h\"].mean())\n",
    "\n",
    "#Average session length\n",
    "print ( \"The Average session length is:\", df['sess_duration_h'].mean(), \"hours\")\n",
    "\n",
    "#Average total time\n",
    "print ( \"The Average total time spent is:\", df.groupby(['ID'])[\"sess_duration_h\"].sum().mean(), \"hours\")"
   ]
  },
  {
   "cell_type": "markdown",
   "metadata": {},
   "source": [
    "## 5. Do Creators experience any errors when using our Lighting tools?"
   ]
  },
  {
   "cell_type": "code",
   "execution_count": 63,
   "metadata": {
    "scrolled": true
   },
   "outputs": [],
   "source": [
    "# Explore categories of parameters.didCompile\n",
    "# df['parameters.didCompile'].unique()\n",
    "\n",
    "# Explore instances of sourceView\n",
    "# df['parameters.sourceView'].unique()\n",
    "\n",
    "#As per the documentation an instance of sourceView indicates the name of the GUIView that was active / processing events when the bake was initiated, if any\n",
    "# df.groupby(\"parameters.sourceView\")[\"ID\"].nunique().sum()"
   ]
  },
  {
   "cell_type": "markdown",
   "metadata": {},
   "source": [
    "## 6. How many Creators use “bakeBackend”?"
   ]
  },
  {
   "cell_type": "code",
   "execution_count": 35,
   "metadata": {
    "scrolled": true
   },
   "outputs": [],
   "source": [
    "# Explore data where users have used bakeBackend\n",
    "# df[(df['parameters.bakeBackend'].notnull())]"
   ]
  },
  {
   "cell_type": "code",
   "execution_count": 30,
   "metadata": {
    "scrolled": false
   },
   "outputs": [
    {
     "name": "stdout",
     "output_type": "stream",
     "text": [
      "Number of unique bakeBackend users: 15607\n",
      "\n",
      "Breakdown of bakeBackend users by subcategory: parameters.bakeBackend\n",
      "enlighten         23334\n",
      "progressivecpu    68251\n",
      "progressivegpu     4204\n",
      "Name: ID, dtype: int64\n",
      "\n",
      "Percentage of total bakeBackend users:  parameters.bakeBackend\n",
      "enlighten         27.071186\n",
      "progressivecpu    69.129237\n",
      "progressivegpu     3.799577\n",
      "Name: ID, dtype: float64\n"
     ]
    }
   ],
   "source": [
    "# Number of unique users who use Bakebackend\n",
    "bakeBackend_unique = df.groupby(\"parameters.bakeBackend\")[\"ID\"].nunique().sum()\n",
    "bakeBackend_unique\n",
    "\n",
    "bakeBackend_per_category = df.groupby(\"parameters.bakeBackend\")[\"ID\"].nunique()\n",
    "print (\"Number of unique bakeBackend users:\", bakeBackend_unique)\n",
    "print (\"\\nBreakdown of bakeBackend users by subcategory:\", df.groupby(\"parameters.bakeBackend\")[\"ID\"].count())\n",
    "print (\"\\nPercentage of total bakeBackend users: \",(bakeBackend_per_category/bakeBackend_unique)*100)"
   ]
  },
  {
   "cell_type": "markdown",
   "metadata": {},
   "source": [
    "## 7. Which version of “bakeBackend” is used the most?"
   ]
  },
  {
   "cell_type": "markdown",
   "metadata": {},
   "source": [
    "##### Progressivecpu has the most instances of use at 68,251 unique users which constitutes of 69% of all bakeBackend users"
   ]
  },
  {
   "cell_type": "markdown",
   "metadata": {},
   "source": [
    "## 8. How many Creators use the Menu button in the Unity Editor to find our Lighting tools? "
   ]
  },
  {
   "cell_type": "markdown",
   "metadata": {},
   "source": [
    "#### 794 out 800 who Unique users who use Lighting Tools use the Unity Editor to access the Lighting Window"
   ]
  },
  {
   "cell_type": "markdown",
   "metadata": {},
   "source": [
    "## 9. What is the preferred (most common) Lightmap size?"
   ]
  },
  {
   "cell_type": "code",
   "execution_count": 31,
   "metadata": {
    "scrolled": true
   },
   "outputs": [
    {
     "name": "stdout",
     "output_type": "stream",
     "text": [
      "Most common lightmap size: 0    1024.0\n",
      "dtype: float64\n"
     ]
    }
   ],
   "source": [
    "#Most common lightmap size -> preferred lightmap size\n",
    "print (\"Most common lightmap size:\", df[\"parameters.lightmapSize\"].mode())"
   ]
  },
  {
   "cell_type": "code",
   "execution_count": 44,
   "metadata": {
    "scrolled": true
   },
   "outputs": [],
   "source": [
    "#Create two subsets \n",
    "# usersessions has fields ID and sessionid - gives us info on the sessions logged by each user\n",
    "# df_light has fields sessionid and diff - gives us info on the duration of each session\n",
    "# Join the two tables \n",
    "\n",
    "#usersessions = df[[\"ID\",\"sessionid\"]]\n",
    "#df_time = df_light[['sessionid', 'diff']]\n",
    "#sduration = pd.merge(usersessions,df_light,on='sessionid')\n",
    "#sduration"
   ]
  },
  {
   "cell_type": "markdown",
   "metadata": {},
   "source": [
    "# Graphs"
   ]
  },
  {
   "cell_type": "code",
   "execution_count": 32,
   "metadata": {
    "scrolled": true
   },
   "outputs": [
    {
     "data": {
      "text/html": [
       "<div>\n",
       "<style scoped>\n",
       "    .dataframe tbody tr th:only-of-type {\n",
       "        vertical-align: middle;\n",
       "    }\n",
       "\n",
       "    .dataframe tbody tr th {\n",
       "        vertical-align: top;\n",
       "    }\n",
       "\n",
       "    .dataframe thead th {\n",
       "        text-align: right;\n",
       "    }\n",
       "</style>\n",
       "<table border=\"1\" class=\"dataframe\">\n",
       "  <thead>\n",
       "    <tr style=\"text-align: right;\">\n",
       "      <th></th>\n",
       "      <th>index</th>\n",
       "      <th>submit_date</th>\n",
       "      <th>ID</th>\n",
       "      <th>platform</th>\n",
       "      <th>sessionid</th>\n",
       "      <th>blocking</th>\n",
       "      <th>duration</th>\n",
       "      <th>start</th>\n",
       "      <th>subtype</th>\n",
       "      <th>ts</th>\n",
       "      <th>...</th>\n",
       "      <th>used_lighting</th>\n",
       "      <th>bakeBackendflag</th>\n",
       "      <th>hour</th>\n",
       "      <th>session_count</th>\n",
       "      <th>sess_duration</th>\n",
       "      <th>sess_duration_h</th>\n",
       "      <th>hour_bin</th>\n",
       "      <th>total_hours</th>\n",
       "      <th>use_category</th>\n",
       "      <th>sess_category</th>\n",
       "    </tr>\n",
       "  </thead>\n",
       "  <tbody>\n",
       "    <tr>\n",
       "      <th>6451</th>\n",
       "      <td>906585</td>\n",
       "      <td>2021-10-28</td>\n",
       "      <td>73i8XZyJ/VH06gpXU1oObIZPCKSjnx8FBg/O96Sb6IY=</td>\n",
       "      <td>WindowsEditor</td>\n",
       "      <td>8783197995654857728</td>\n",
       "      <td>False</td>\n",
       "      <td>8573294.0</td>\n",
       "      <td>2021-10-28 17:39:30.430414500</td>\n",
       "      <td>computeLighting</td>\n",
       "      <td>2021-10-28 17:39:39.004</td>\n",
       "      <td>...</td>\n",
       "      <td>True</td>\n",
       "      <td>True</td>\n",
       "      <td>17.0</td>\n",
       "      <td>4</td>\n",
       "      <td>0 days 00:02:02.973000</td>\n",
       "      <td>0.03</td>\n",
       "      <td>afternoon/evening</td>\n",
       "      <td>168.41</td>\n",
       "      <td>very high</td>\n",
       "      <td>3 to 5</td>\n",
       "    </tr>\n",
       "    <tr>\n",
       "      <th>6452</th>\n",
       "      <td>920687</td>\n",
       "      <td>2021-10-28</td>\n",
       "      <td>73i8XZyJ/VH06gpXU1oObIZPCKSjnx8FBg/O96Sb6IY=</td>\n",
       "      <td>WindowsEditor</td>\n",
       "      <td>8262643206070763520</td>\n",
       "      <td>False</td>\n",
       "      <td>13758999.0</td>\n",
       "      <td>2021-10-28 19:00:31.112072600</td>\n",
       "      <td>computeLighting</td>\n",
       "      <td>2021-10-28 19:00:44.871</td>\n",
       "      <td>...</td>\n",
       "      <td>True</td>\n",
       "      <td>True</td>\n",
       "      <td>19.0</td>\n",
       "      <td>4</td>\n",
       "      <td>0 days 02:37:03.189000</td>\n",
       "      <td>2.62</td>\n",
       "      <td>night</td>\n",
       "      <td>168.41</td>\n",
       "      <td>very high</td>\n",
       "      <td>3 to 5</td>\n",
       "    </tr>\n",
       "    <tr>\n",
       "      <th>6453</th>\n",
       "      <td>920688</td>\n",
       "      <td>2021-10-28</td>\n",
       "      <td>73i8XZyJ/VH06gpXU1oObIZPCKSjnx8FBg/O96Sb6IY=</td>\n",
       "      <td>WindowsEditor</td>\n",
       "      <td>8783197995654857728</td>\n",
       "      <td>False</td>\n",
       "      <td>11691616.0</td>\n",
       "      <td>2021-10-28 17:37:24.338943700</td>\n",
       "      <td>computeLighting</td>\n",
       "      <td>2021-10-28 17:37:36.031</td>\n",
       "      <td>...</td>\n",
       "      <td>True</td>\n",
       "      <td>True</td>\n",
       "      <td>17.0</td>\n",
       "      <td>4</td>\n",
       "      <td>0 days 00:02:02.973000</td>\n",
       "      <td>0.03</td>\n",
       "      <td>afternoon/evening</td>\n",
       "      <td>168.41</td>\n",
       "      <td>very high</td>\n",
       "      <td>3 to 5</td>\n",
       "    </tr>\n",
       "    <tr>\n",
       "      <th>6454</th>\n",
       "      <td>967402</td>\n",
       "      <td>2021-10-28</td>\n",
       "      <td>73i8XZyJ/VH06gpXU1oObIZPCKSjnx8FBg/O96Sb6IY=</td>\n",
       "      <td>WindowsEditor</td>\n",
       "      <td>5888455541594783744</td>\n",
       "      <td>False</td>\n",
       "      <td>11796466.0</td>\n",
       "      <td>2021-10-28 11:54:15.006467500</td>\n",
       "      <td>computeLighting</td>\n",
       "      <td>2021-10-28 11:54:26.802</td>\n",
       "      <td>...</td>\n",
       "      <td>True</td>\n",
       "      <td>True</td>\n",
       "      <td>11.0</td>\n",
       "      <td>4</td>\n",
       "      <td>0 days 00:55:27.546000</td>\n",
       "      <td>0.92</td>\n",
       "      <td>day</td>\n",
       "      <td>168.41</td>\n",
       "      <td>very high</td>\n",
       "      <td>3 to 5</td>\n",
       "    </tr>\n",
       "    <tr>\n",
       "      <th>6455</th>\n",
       "      <td>972770</td>\n",
       "      <td>2021-10-28</td>\n",
       "      <td>73i8XZyJ/VH06gpXU1oObIZPCKSjnx8FBg/O96Sb6IY=</td>\n",
       "      <td>WindowsEditor</td>\n",
       "      <td>5888455541594783744</td>\n",
       "      <td>False</td>\n",
       "      <td>8617926.0</td>\n",
       "      <td>2021-10-28 11:39:01.027066900</td>\n",
       "      <td>computeLighting</td>\n",
       "      <td>2021-10-28 11:39:09.644</td>\n",
       "      <td>...</td>\n",
       "      <td>True</td>\n",
       "      <td>True</td>\n",
       "      <td>11.0</td>\n",
       "      <td>4</td>\n",
       "      <td>0 days 00:55:27.546000</td>\n",
       "      <td>0.92</td>\n",
       "      <td>day</td>\n",
       "      <td>168.41</td>\n",
       "      <td>very high</td>\n",
       "      <td>3 to 5</td>\n",
       "    </tr>\n",
       "  </tbody>\n",
       "</table>\n",
       "<p>5 rows × 68 columns</p>\n",
       "</div>"
      ],
      "text/plain": [
       "       index submit_date                                            ID  \\\n",
       "6451  906585  2021-10-28  73i8XZyJ/VH06gpXU1oObIZPCKSjnx8FBg/O96Sb6IY=   \n",
       "6452  920687  2021-10-28  73i8XZyJ/VH06gpXU1oObIZPCKSjnx8FBg/O96Sb6IY=   \n",
       "6453  920688  2021-10-28  73i8XZyJ/VH06gpXU1oObIZPCKSjnx8FBg/O96Sb6IY=   \n",
       "6454  967402  2021-10-28  73i8XZyJ/VH06gpXU1oObIZPCKSjnx8FBg/O96Sb6IY=   \n",
       "6455  972770  2021-10-28  73i8XZyJ/VH06gpXU1oObIZPCKSjnx8FBg/O96Sb6IY=   \n",
       "\n",
       "           platform            sessionid  blocking    duration  \\\n",
       "6451  WindowsEditor  8783197995654857728     False   8573294.0   \n",
       "6452  WindowsEditor  8262643206070763520     False  13758999.0   \n",
       "6453  WindowsEditor  8783197995654857728     False  11691616.0   \n",
       "6454  WindowsEditor  5888455541594783744     False  11796466.0   \n",
       "6455  WindowsEditor  5888455541594783744     False   8617926.0   \n",
       "\n",
       "                             start          subtype                      ts  \\\n",
       "6451 2021-10-28 17:39:30.430414500  computeLighting 2021-10-28 17:39:39.004   \n",
       "6452 2021-10-28 19:00:31.112072600  computeLighting 2021-10-28 19:00:44.871   \n",
       "6453 2021-10-28 17:37:24.338943700  computeLighting 2021-10-28 17:37:36.031   \n",
       "6454 2021-10-28 11:54:15.006467500  computeLighting 2021-10-28 11:54:26.802   \n",
       "6455 2021-10-28 11:39:01.027066900  computeLighting 2021-10-28 11:39:09.644   \n",
       "\n",
       "      ... used_lighting bakeBackendflag  hour  session_count  \\\n",
       "6451  ...          True            True  17.0              4   \n",
       "6452  ...          True            True  19.0              4   \n",
       "6453  ...          True            True  17.0              4   \n",
       "6454  ...          True            True  11.0              4   \n",
       "6455  ...          True            True  11.0              4   \n",
       "\n",
       "               sess_duration sess_duration_h           hour_bin  total_hours  \\\n",
       "6451  0 days 00:02:02.973000            0.03  afternoon/evening       168.41   \n",
       "6452  0 days 02:37:03.189000            2.62              night       168.41   \n",
       "6453  0 days 00:02:02.973000            0.03  afternoon/evening       168.41   \n",
       "6454  0 days 00:55:27.546000            0.92                day       168.41   \n",
       "6455  0 days 00:55:27.546000            0.92                day       168.41   \n",
       "\n",
       "     use_category sess_category  \n",
       "6451    very high        3 to 5  \n",
       "6452    very high        3 to 5  \n",
       "6453    very high        3 to 5  \n",
       "6454    very high        3 to 5  \n",
       "6455    very high        3 to 5  \n",
       "\n",
       "[5 rows x 68 columns]"
      ]
     },
     "execution_count": 32,
     "metadata": {},
     "output_type": "execute_result"
    }
   ],
   "source": [
    "df_lighting.head()"
   ]
  },
  {
   "cell_type": "code",
   "execution_count": 33,
   "metadata": {
    "scrolled": true
   },
   "outputs": [],
   "source": [
    "sns.set_theme()"
   ]
  },
  {
   "cell_type": "code",
   "execution_count": 34,
   "metadata": {
    "scrolled": false
   },
   "outputs": [
    {
     "data": {
      "image/png": "[encoded data removed]",
      "text/plain": [
       "<Figure size 360x360 with 1 Axes>"
      ]
     },
     "metadata": {
      "needs_background": "light"
     },
     "output_type": "display_data"
    }
   ],
   "source": [
    "g = sns.displot(df_lighting, x=\"sess_duration_h\", facet_kws={'sharey': False, 'sharex': False})\n",
    "g.set(xlim=(0, 20), xlabel = 'Session Duration in Hours', title = ' Distribution by Session Duration')\n",
    "plt.show()"
   ]
  },
  {
   "cell_type": "code",
   "execution_count": 36,
   "metadata": {
    "scrolled": false
   },
   "outputs": [
    {
     "data": {
      "image/png": "[encoded data removed]",
      "text/plain": [
       "<Figure size 360x360 with 1 Axes>"
      ]
     },
     "metadata": {
      "needs_background": "light"
     },
     "output_type": "display_data"
    }
   ],
   "source": [
    "g = sns.displot(df_lighting, x=\"hour_bin\", facet_kws={'sharey': False, 'sharex': False})\n",
    "g.set(xlabel = 'Time of day', ylabel = 'Session count', title = ' Distribution of Sessions by Time of Day')\n",
    "plt.show()"
   ]
  },
  {
   "cell_type": "code",
   "execution_count": 155,
   "metadata": {
    "scrolled": false
   },
   "outputs": [
    {
     "data": {
      "image/png": "[encoded data removed]",
      "text/plain": [
       "<Figure size 360x360 with 1 Axes>"
      ]
     },
     "metadata": {},
     "output_type": "display_data"
    }
   ],
   "source": [
    "ax= sns.catplot(data=df_lighting, x=\"used_lighting\", y=\"total_hours\", hue=\"hour_bin\", kind=\"bar\", legend = False)\n",
    "ax.set(ylabel='Total Hours', title = 'Total Hours logged by users who used lighting tools')\n",
    "plt.legend(title='Time of Day the session was logged')\n",
    "plt.show()"
   ]
  }
 ],
 "metadata": {
  "kernelspec": {
   "display_name": "Python 3",
   "language": "python",
   "name": "python3"
  },
  "language_info": {
   "codemirror_mode": {
    "name": "ipython",
    "version": 3
   },
   "file_extension": ".py",
   "mimetype": "text/x-python",
   "name": "python",
   "nbconvert_exporter": "python",
   "pygments_lexer": "ipython3",
   "version": "3.7.1"
  }
 },
 "nbformat": 4,
 "nbformat_minor": 2
}
